{
 "cells": [
  {
   "cell_type": "code",
   "execution_count": null,
   "id": "692d0be7",
   "metadata": {},
   "outputs": [],
   "source": [
    "X=df[['features.properties.dead_count', 'features.properties.injured_count', 'features.properties.participants_count']]\n",
    "y=df['features.properties.severity']\n",
    "#Получение выборок #Getting samples\n",
    "from sklearn.model_selection import train_test_split\n",
    "X_train, X_test, y_train, y_test = train_test_split(X, y, test_size=0.33, random_state=42, stratify=df[\"location\"])"
   ]
  }
 ],
 "metadata": {
  "kernelspec": {
   "display_name": "Python 3 (ipykernel)",
   "language": "python",
   "name": "python3"
  },
  "language_info": {
   "codemirror_mode": {
    "name": "ipython",
    "version": 3
   },
   "file_extension": ".py",
   "mimetype": "text/x-python",
   "name": "python",
   "nbconvert_exporter": "python",
   "pygments_lexer": "ipython3",
   "version": "3.9.7"
  }
 },
 "nbformat": 4,
 "nbformat_minor": 5
}
